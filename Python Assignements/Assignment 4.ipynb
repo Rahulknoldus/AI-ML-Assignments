{
 "cells": [
  {
   "cell_type": "code",
   "execution_count": 1,
   "id": "065db04d-3f58-4359-a69f-f721024129fd",
   "metadata": {},
   "outputs": [],
   "source": [
    "from datetime import datetime, timedelta\n",
    "\n",
    "# Define a task using a class\n",
    "class Task:\n",
    "    def __init__(self, name, deadline, user_importance, num_dependencies):\n",
    "        self.name = name\n",
    "        self.deadline = deadline  # when the task is due\n",
    "        self.user_importance = user_importance  # how important the task is (1 to 5)\n",
    "        self.num_dependencies = num_dependencies  # how many tasks depend on this one\n",
    "\n",
    "# This function decides if the task is High, Medium, or Low priority\n",
    "def suggest_priority(task):\n",
    "    today = datetime.now()\n",
    "    days_left = (task.deadline - today).days  # how many days until deadline\n",
    "\n",
    "    # Start with a score of 0\n",
    "    score = 0\n",
    "\n",
    "    # Check how urgent the task is\n",
    "    if days_left <= 1:\n",
    "        score += 3\n",
    "    elif days_left <= 3:\n",
    "        score += 2\n",
    "    elif days_left <= 7:\n",
    "        score += 1\n",
    "\n",
    "    # Add points for dependencies and importance\n",
    "    score += task.num_dependencies\n",
    "    score += task.user_importance\n",
    "\n",
    "    # Decide priority based on the score\n",
    "    if score >= 7:\n",
    "        return \"High\"\n",
    "    elif score >= 4:\n",
    "        return \"Medium\"\n",
    "    else:\n",
    "        return \"Low\"\n",
    "\n",
    "\n"
   ]
  },
  {
   "cell_type": "code",
   "execution_count": 2,
   "id": "67780bda-be0a-46e2-970c-eeed45b211ab",
   "metadata": {},
   "outputs": [
    {
     "name": "stdout",
     "output_type": "stream",
     "text": [
      "Suggested Priority: High\n"
     ]
    }
   ],
   "source": [
    "# create a task and check its priority\n",
    "my_task = Task(\n",
    "    name=\"Finish assignment\",\n",
    "    deadline=datetime.now() + timedelta(days=1),\n",
    "    user_importance=4,\n",
    "    num_dependencies=1\n",
    ")\n",
    "\n",
    "# Print suggested priority\n",
    "priority = suggest_priority(my_task)\n",
    "print(\"Suggested Priority:\", priority)"
   ]
  },
  {
   "cell_type": "code",
   "execution_count": 3,
   "id": "b5398118-25fc-48f0-8d73-9a152738d0ff",
   "metadata": {},
   "outputs": [
    {
     "name": "stdout",
     "output_type": "stream",
     "text": [
      "Suggested Priority: High\n"
     ]
    }
   ],
   "source": [
    "# Test 1: Imminent deadline, no dependencies\n",
    "\n",
    "my_task = Task(\n",
    "    name=\"Finish assignment\",\n",
    "    deadline=datetime.now() + timedelta(days=1),\n",
    "    user_importance=4,\n",
    "    num_dependencies=0\n",
    ")\n",
    "\n",
    "# Print suggested priority\n",
    "priority = suggest_priority(my_task)\n",
    "print(\"Suggested Priority:\", priority)"
   ]
  },
  {
   "cell_type": "code",
   "execution_count": 4,
   "id": "24ff0a89-9acd-47c4-b902-3e2d795d38dc",
   "metadata": {},
   "outputs": [
    {
     "name": "stdout",
     "output_type": "stream",
     "text": [
      "Suggested Priority: Medium\n"
     ]
    }
   ],
   "source": [
    "# Test 2: Distant deadline, many dependencies\n",
    "my_task = Task(\n",
    "    name=\"Finish assignment\",\n",
    "    deadline=datetime.now() + timedelta(days=1),\n",
    "    user_importance=1,\n",
    "    num_dependencies=1\n",
    ")\n",
    "\n",
    "# Print suggested priority\n",
    "priority = suggest_priority(my_task)\n",
    "print(\"Suggested Priority:\", priority)"
   ]
  },
  {
   "cell_type": "code",
   "execution_count": 5,
   "id": "3117a840-ca7a-4123-a40b-6202a9883140",
   "metadata": {},
   "outputs": [
    {
     "name": "stdout",
     "output_type": "stream",
     "text": [
      "Suggested Priority: Low\n"
     ]
    }
   ],
   "source": [
    "# Test 3: Moderate deadline, no dependencies, low importance\n",
    "my_task = Task(\n",
    "    name=\"Finish assignment\",\n",
    "    deadline=datetime.now() + timedelta(days=1),\n",
    "    user_importance=0,\n",
    "    num_dependencies=0\n",
    ")\n",
    "\n",
    "# Print suggested priority\n",
    "priority = suggest_priority(my_task)\n",
    "print(\"Suggested Priority:\", priority)"
   ]
  },
  {
   "cell_type": "code",
   "execution_count": null,
   "id": "9f065ecd-8188-4db0-8065-b867d1f861aa",
   "metadata": {},
   "outputs": [],
   "source": []
  }
 ],
 "metadata": {
  "kernelspec": {
   "display_name": "Python 3 (ipykernel)",
   "language": "python",
   "name": "python3"
  },
  "language_info": {
   "codemirror_mode": {
    "name": "ipython",
    "version": 3
   },
   "file_extension": ".py",
   "mimetype": "text/x-python",
   "name": "python",
   "nbconvert_exporter": "python",
   "pygments_lexer": "ipython3",
   "version": "3.10.12"
  }
 },
 "nbformat": 4,
 "nbformat_minor": 5
}
