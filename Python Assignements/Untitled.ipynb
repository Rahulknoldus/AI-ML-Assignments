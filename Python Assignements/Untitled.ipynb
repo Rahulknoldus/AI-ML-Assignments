{
 "cells": [
  {
   "cell_type": "code",
   "execution_count": 6,
   "id": "02e7a4a5-409f-4e50-b1ff-383cab4bfb7f",
   "metadata": {},
   "outputs": [
    {
     "name": "stdout",
     "output_type": "stream",
     "text": [
      "{'orange', 'mango', 'pears'}\n"
     ]
    }
   ],
   "source": [
    "# sets\n",
    "\n",
    "fruits= {\"mango\", \"pears\", \"orange\"}\n",
    "print(fruits)\n"
   ]
  },
  {
   "cell_type": "code",
   "execution_count": 30,
   "id": "7498b31e-9cf7-4a09-a484-ee710edf365e",
   "metadata": {},
   "outputs": [],
   "source": [
    "A = {1,2,3,4,5}\n",
    "\n",
    "B = {6,7,8}\n"
   ]
  },
  {
   "cell_type": "code",
   "execution_count": 32,
   "id": "834d4ab8-c6f9-414a-9213-bf44c79dfe35",
   "metadata": {},
   "outputs": [
    {
     "name": "stdout",
     "output_type": "stream",
     "text": [
      "set()\n"
     ]
    }
   ],
   "source": [
    "# intersection \n",
    "intersection = A & B\n",
    "\n",
    "print(intersection)"
   ]
  },
  {
   "cell_type": "code",
   "execution_count": 34,
   "id": "905f36f8-2d6f-4431-a805-a8e02451b1ce",
   "metadata": {},
   "outputs": [
    {
     "name": "stdout",
     "output_type": "stream",
     "text": [
      "{1, 2, 3, 4, 5, 6, 7, 8}\n"
     ]
    }
   ],
   "source": [
    "# union \n",
    "union = A | B\n",
    "\n",
    "print(union)"
   ]
  },
  {
   "cell_type": "code",
   "execution_count": 37,
   "id": "aa6409ef-9c80-43f6-ae21-32b3e1d34de7",
   "metadata": {},
   "outputs": [
    {
     "name": "stdout",
     "output_type": "stream",
     "text": [
      "{'orange', 1, 2, 3, 4, 5, 6, 7, 8, 'mango', 'pears'}\n"
     ]
    }
   ],
   "source": [
    "unionAll = fruits | A | B\n",
    "print(unionAll)"
   ]
  },
  {
   "cell_type": "code",
   "execution_count": null,
   "id": "dcdb8ac1-9305-46af-a587-d10230017606",
   "metadata": {},
   "outputs": [],
   "source": []
  }
 ],
 "metadata": {
  "kernelspec": {
   "display_name": "Python 3 (ipykernel)",
   "language": "python",
   "name": "python3"
  },
  "language_info": {
   "codemirror_mode": {
    "name": "ipython",
    "version": 3
   },
   "file_extension": ".py",
   "mimetype": "text/x-python",
   "name": "python",
   "nbconvert_exporter": "python",
   "pygments_lexer": "ipython3",
   "version": "3.10.12"
  }
 },
 "nbformat": 4,
 "nbformat_minor": 5
}
