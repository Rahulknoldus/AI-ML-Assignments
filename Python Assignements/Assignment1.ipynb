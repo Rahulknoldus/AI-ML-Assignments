{
 "cells": [
  {
   "cell_type": "code",
   "execution_count": 20,
   "id": "bb26770f-3709-46ab-a879-c70d768cec63",
   "metadata": {},
   "outputs": [
    {
     "data": {
      "text/html": [
       "<div>\n",
       "<style scoped>\n",
       "    .dataframe tbody tr th:only-of-type {\n",
       "        vertical-align: middle;\n",
       "    }\n",
       "\n",
       "    .dataframe tbody tr th {\n",
       "        vertical-align: top;\n",
       "    }\n",
       "\n",
       "    .dataframe thead th {\n",
       "        text-align: right;\n",
       "    }\n",
       "</style>\n",
       "<table border=\"1\" class=\"dataframe\">\n",
       "  <thead>\n",
       "    <tr style=\"text-align: right;\">\n",
       "      <th></th>\n",
       "      <th>Name</th>\n",
       "      <th>Team</th>\n",
       "      <th>Number</th>\n",
       "      <th>Position</th>\n",
       "      <th>Age</th>\n",
       "      <th>Height</th>\n",
       "      <th>Weight</th>\n",
       "      <th>College</th>\n",
       "      <th>Salary</th>\n",
       "    </tr>\n",
       "  </thead>\n",
       "  <tbody>\n",
       "    <tr>\n",
       "      <th>0</th>\n",
       "      <td>Avery Bradley</td>\n",
       "      <td>Boston Celtics</td>\n",
       "      <td>0.0</td>\n",
       "      <td>PG</td>\n",
       "      <td>25.0</td>\n",
       "      <td>6-2</td>\n",
       "      <td>180.0</td>\n",
       "      <td>Texas</td>\n",
       "      <td>7730337.0</td>\n",
       "    </tr>\n",
       "    <tr>\n",
       "      <th>1</th>\n",
       "      <td>Jae Crowder</td>\n",
       "      <td>Boston Celtics</td>\n",
       "      <td>99.0</td>\n",
       "      <td>SF</td>\n",
       "      <td>25.0</td>\n",
       "      <td>6-6</td>\n",
       "      <td>235.0</td>\n",
       "      <td>Marquette</td>\n",
       "      <td>6796117.0</td>\n",
       "    </tr>\n",
       "    <tr>\n",
       "      <th>2</th>\n",
       "      <td>John Holland</td>\n",
       "      <td>Boston Celtics</td>\n",
       "      <td>30.0</td>\n",
       "      <td>SG</td>\n",
       "      <td>27.0</td>\n",
       "      <td>6-5</td>\n",
       "      <td>205.0</td>\n",
       "      <td>Boston University</td>\n",
       "      <td>NaN</td>\n",
       "    </tr>\n",
       "    <tr>\n",
       "      <th>3</th>\n",
       "      <td>R.J. Hunter</td>\n",
       "      <td>Boston Celtics</td>\n",
       "      <td>28.0</td>\n",
       "      <td>SG</td>\n",
       "      <td>22.0</td>\n",
       "      <td>6-5</td>\n",
       "      <td>185.0</td>\n",
       "      <td>Georgia State</td>\n",
       "      <td>1148640.0</td>\n",
       "    </tr>\n",
       "    <tr>\n",
       "      <th>4</th>\n",
       "      <td>Jonas Jerebko</td>\n",
       "      <td>Boston Celtics</td>\n",
       "      <td>8.0</td>\n",
       "      <td>PF</td>\n",
       "      <td>29.0</td>\n",
       "      <td>6-10</td>\n",
       "      <td>231.0</td>\n",
       "      <td>NaN</td>\n",
       "      <td>5000000.0</td>\n",
       "    </tr>\n",
       "  </tbody>\n",
       "</table>\n",
       "</div>"
      ],
      "text/plain": [
       "            Name            Team  Number Position   Age Height  Weight  \\\n",
       "0  Avery Bradley  Boston Celtics     0.0       PG  25.0    6-2   180.0   \n",
       "1    Jae Crowder  Boston Celtics    99.0       SF  25.0    6-6   235.0   \n",
       "2   John Holland  Boston Celtics    30.0       SG  27.0    6-5   205.0   \n",
       "3    R.J. Hunter  Boston Celtics    28.0       SG  22.0    6-5   185.0   \n",
       "4  Jonas Jerebko  Boston Celtics     8.0       PF  29.0   6-10   231.0   \n",
       "\n",
       "             College     Salary  \n",
       "0              Texas  7730337.0  \n",
       "1          Marquette  6796117.0  \n",
       "2  Boston University        NaN  \n",
       "3      Georgia State  1148640.0  \n",
       "4                NaN  5000000.0  "
      ]
     },
     "execution_count": 20,
     "metadata": {},
     "output_type": "execute_result"
    }
   ],
   "source": [
    "# Data Loading & Familiarization: Load the Dataset\n",
    "\n",
    "# importing pandas  \n",
    "import pandas as pd \n",
    "\t\n",
    "# Load the dataset from the URL\n",
    "url = \"https://media.geeksforgeeks.org/wp-content/uploads/nba.csv\"\n",
    "df = pd.read_csv(url)\n",
    "\n",
    "df.head()\n"
   ]
  },
  {
   "cell_type": "code",
   "execution_count": 21,
   "id": "149933c2-57d9-494e-8527-a0c109491fef",
   "metadata": {},
   "outputs": [
    {
     "name": "stdout",
     "output_type": "stream",
     "text": [
      "🧾 Column Names:\n",
      "['Name', 'Team', 'Number', 'Position', 'Age', 'Height', 'Weight', 'College', 'Salary']\n",
      "\n",
      "🔍 Data Types:\n",
      "Name         object\n",
      "Team         object\n",
      "Number      float64\n",
      "Position     object\n",
      "Age         float64\n",
      "Height       object\n",
      "Weight      float64\n",
      "College      object\n",
      "Salary      float64\n",
      "dtype: object\n",
      "\n",
      "⚠️ Null Values:\n",
      "Name         1\n",
      "Team         1\n",
      "Number       1\n",
      "Position     1\n",
      "Age          1\n",
      "Height       1\n",
      "Weight       1\n",
      "College     85\n",
      "Salary      12\n",
      "dtype: int64\n"
     ]
    }
   ],
   "source": [
    "# Data Loading & Familiarization: Inspect the Structure\n",
    "\n",
    "# Print column names\n",
    "print(\"Column Names:\")\n",
    "print(df.columns.tolist())\n",
    "\n",
    "# Check data types\n",
    "print(\"\\n Data Types:\")\n",
    "print(df.dtypes)\n",
    "\n",
    "# Check for null values\n",
    "print(\"\\n Null Values:\")\n",
    "print(df.isnull().sum())\n"
   ]
  },
  {
   "cell_type": "code",
   "execution_count": 22,
   "id": "d964973f-056b-4439-b13e-0baabb015712",
   "metadata": {},
   "outputs": [
    {
     "name": "stdout",
     "output_type": "stream",
     "text": [
      "\n",
      " Dataset Info:\n",
      "{'num_rows': 458, 'num_columns': 9, 'column_names': ['Name', 'Team', 'Number', 'Position', 'Age', 'Height', 'Weight', 'College', 'Salary']}\n"
     ]
    }
   ],
   "source": [
    "# Data Loading & Familiarization: Pure Function to Describe Dataset Info\n",
    "\n",
    "def get_dataset_info(dataframe):\n",
    "    return {\n",
    "        \"num_rows\": dataframe.shape[0],\n",
    "        \"num_columns\": dataframe.shape[1],\n",
    "        \"column_names\": dataframe.columns.tolist()\n",
    "    }\n",
    "\n",
    "# Usage\n",
    "info = get_dataset_info(df)\n",
    "print(\"\\n Dataset Info:\")\n",
    "print(info)\n"
   ]
  },
  {
   "cell_type": "code",
   "execution_count": 37,
   "id": "e884d8d7-39f3-4852-92fd-74009f0b0909",
   "metadata": {},
   "outputs": [
    {
     "name": "stdout",
     "output_type": "stream",
     "text": [
      "Original rows: 458\n",
      "Cleaned rows:  457\n",
      "            Name            Team  Number Position   Age Height  Weight  \\\n",
      "0  avery bradley  boston celtics     0.0       PG  25.0    6-2   180.0   \n",
      "1    jae crowder  boston celtics    99.0       SF  25.0    6-6   235.0   \n",
      "2   john holland  boston celtics    30.0       SG  27.0    6-5   205.0   \n",
      "3    r.j. hunter  boston celtics    28.0       SG  22.0    6-5   185.0   \n",
      "4  jonas jerebko  boston celtics     8.0       PF  29.0   6-10   231.0   \n",
      "\n",
      "             College     Salary  \n",
      "0              Texas  7730337.0  \n",
      "1          Marquette  6796117.0  \n",
      "2  Boston University        NaN  \n",
      "3      Georgia State  1148640.0  \n",
      "4                NaN  5000000.0  \n"
     ]
    }
   ],
   "source": [
    "# Functional Cleaning & Preprocessing:  Define a function that returns a cleaned copy\n",
    "def clean_nba_data(data):\n",
    "    # Drop rows where Name or Team is blank/NaN\n",
    "    cleaned = data.dropna(subset=['Name', 'Team']).copy()\n",
    "    \n",
    "    # Functional Cleaning & Preprocessing : Strip whitespace and lowercase those columns\n",
    "    for col in ['Name', 'Team']:\n",
    "        cleaned[col] = cleaned[col].str.strip().str.lower()\n",
    "    \n",
    "    return cleaned\n",
    "\n",
    "# Functional Cleaning & Preprocessing:  Get your cleaned DataFrame\n",
    "clean_df = clean_nba_data(df)\n",
    "\n",
    "print(\"Original rows:\", len(df))\n",
    "print(\"Cleaned rows: \", len(clean_df))\n",
    "print(clean_df.head())"
   ]
  },
  {
   "cell_type": "code",
   "execution_count": 38,
   "id": "66438b1c-9ef1-4ed8-8b94-2241bccf3abb",
   "metadata": {},
   "outputs": [
    {
     "name": "stdout",
     "output_type": "stream",
     "text": [
      "[44, 80, 120]\n"
     ]
    }
   ],
   "source": [
    "# Code Refactoring with FP Principles\n",
    "ages = [15, 22, 37, 40, 51, 60]\n",
    "\n",
    "# Procedural approach\n",
    "result = []\n",
    "for age in ages:\n",
    "    if age % 2 == 0:\n",
    "        doubled = age * 2\n",
    "        result.append(doubled)\n",
    "\n",
    "print(result)  "
   ]
  },
  {
   "cell_type": "code",
   "execution_count": 39,
   "id": "d54cd626-dc68-4b0c-9630-4abacd1c635e",
   "metadata": {},
   "outputs": [
    {
     "name": "stdout",
     "output_type": "stream",
     "text": [
      "[44, 80, 120]\n"
     ]
    }
   ],
   "source": [
    "# Functional approach\n",
    "even_ages = filter(lambda x: x % 2 == 0, ages)\n",
    "doubled  = map(lambda x: x * 2, even_ages)\n",
    "result   = list(doubled)\n",
    "\n",
    "print(result)  "
   ]
  },
  {
   "cell_type": "code",
   "execution_count": null,
   "id": "5261bfa2-4395-493b-a79d-94481f029894",
   "metadata": {},
   "outputs": [],
   "source": [
    "# Functional approach Version Is Better than Procedural approach beacuse \n",
    "\n",
    "# Modularity: filter and map each do one job—you can swap or reuse them without touching the rest.\n",
    "# Readability: You read a clear pipeline (filter → map → collect) instead of tracking loops and accumulators.\n",
    "# Immutability: Data isn’t changed in place; you always produce a fresh result, so the original stays safe.\n",
    "# Composability: You can insert, remove, or reorder steps (e.g. another filter or sorted) without rewriting existing logic.\n",
    "\n"
   ]
  },
  {
   "cell_type": "code",
   "execution_count": 40,
   "id": "c641ed08-9409-40ce-b56c-f3fa6bbe2b3d",
   "metadata": {},
   "outputs": [
    {
     "name": "stdout",
     "output_type": "stream",
     "text": [
      "Total unique players: 364\n",
      "Average salary: 4620311.07\n",
      "Top 5 teams by average salary:\n",
      " Team\n",
      "Cleveland Cavaliers      6.733472e+06\n",
      "Golden State Warriors    6.711293e+06\n",
      "Los Angeles Clippers     6.707637e+06\n",
      "Miami Heat               6.583812e+06\n",
      "Chicago Bulls            6.105483e+06\n",
      "Name: Salary, dtype: float64\n"
     ]
    }
   ],
   "source": [
    "# Clean the data\n",
    "df_clean = df.dropna()\n",
    "\n",
    "# Functional style summary\n",
    "player_count = df_clean['Name'].nunique()\n",
    "average_salary = df_clean['Salary'].mean()\n",
    "team_salary_avg = df_clean.groupby('Team')['Salary'].mean().sort_values(ascending=False)\n",
    "\n",
    "# Display mini analysis\n",
    "print(\"Total unique players:\", player_count)\n",
    "print(\"Average salary:\", round(average_salary, 2))\n",
    "print(\"Top 5 teams by average salary:\\n\", team_salary_avg.head())"
   ]
  },
  {
   "cell_type": "code",
   "execution_count": null,
   "id": "f4fb26aa-06c4-45ea-acf8-89e235c2713d",
   "metadata": {},
   "outputs": [],
   "source": []
  }
 ],
 "metadata": {
  "kernelspec": {
   "display_name": "Python 3 (ipykernel)",
   "language": "python",
   "name": "python3"
  },
  "language_info": {
   "codemirror_mode": {
    "name": "ipython",
    "version": 3
   },
   "file_extension": ".py",
   "mimetype": "text/x-python",
   "name": "python",
   "nbconvert_exporter": "python",
   "pygments_lexer": "ipython3",
   "version": "3.10.12"
  }
 },
 "nbformat": 4,
 "nbformat_minor": 5
}
